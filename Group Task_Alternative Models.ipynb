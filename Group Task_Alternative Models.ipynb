{
 "cells": [
  {
   "cell_type": "code",
   "execution_count": 93,
   "metadata": {},
   "outputs": [],
   "source": [
    "#Libraries\n",
    "import pandas as pd\n",
    "import numpy as np\n",
    "import os\n",
    "import matplotlib.pyplot as plt\n",
    "import seaborn as sns\n",
    "sns.set()\n",
    "from scipy.stats import multivariate_normal as mvn\n",
    "from scipy.stats import multinomial as mlvn\n",
    "from scipy.stats import bernoulli as brn\n",
    "from sklearn.model_selection import learning_curve\n",
    "%matplotlib inline"
   ]
  },
  {
   "cell_type": "code",
   "execution_count": 94,
   "metadata": {},
   "outputs": [
    {
     "data": {
      "text/plain": [
       "['.Rhistory',\n",
       " 'Group Task.ipynb',\n",
       " 'Untitled1.ipynb',\n",
       " 'Logistic Regression.ipynb',\n",
       " 'group_slide.pptx',\n",
       " 'scania_training.csv',\n",
       " 'Untitled.ipynb',\n",
       " '~$group_slide.pptx',\n",
       " 'cleaned_test.csv',\n",
       " 'rds_cred_scania.json',\n",
       " 'clean data.ipynb',\n",
       " 'cleaned_train.csv',\n",
       " 'scania_test.csv',\n",
       " '.ipynb_checkpoints',\n",
       " 'Data_Prep.Rmd']"
      ]
     },
     "execution_count": 94,
     "metadata": {},
     "output_type": "execute_result"
    }
   ],
   "source": [
    "os.listdir(os.getcwd())"
   ]
  },
  {
   "cell_type": "code",
   "execution_count": 95,
   "metadata": {},
   "outputs": [],
   "source": [
    "#Load Test Dataset"
   ]
  },
  {
   "cell_type": "code",
   "execution_count": 96,
   "metadata": {},
   "outputs": [],
   "source": [
    "df_test = pd.read_csv('cleaned_test.csv')"
   ]
  },
  {
   "cell_type": "code",
   "execution_count": 97,
   "metadata": {},
   "outputs": [
    {
     "data": {
      "text/html": [
       "<div>\n",
       "<style scoped>\n",
       "    .dataframe tbody tr th:only-of-type {\n",
       "        vertical-align: middle;\n",
       "    }\n",
       "\n",
       "    .dataframe tbody tr th {\n",
       "        vertical-align: top;\n",
       "    }\n",
       "\n",
       "    .dataframe thead th {\n",
       "        text-align: right;\n",
       "    }\n",
       "</style>\n",
       "<table border=\"1\" class=\"dataframe\">\n",
       "  <thead>\n",
       "    <tr style=\"text-align: right;\">\n",
       "      <th></th>\n",
       "      <th>aa_000</th>\n",
       "      <th>ab_000</th>\n",
       "      <th>ac_000</th>\n",
       "      <th>ad_000</th>\n",
       "      <th>ae_000</th>\n",
       "      <th>af_000</th>\n",
       "      <th>ag_000</th>\n",
       "      <th>ag_001</th>\n",
       "      <th>ag_002</th>\n",
       "      <th>ag_003</th>\n",
       "      <th>...</th>\n",
       "      <th>ee_003</th>\n",
       "      <th>ee_004</th>\n",
       "      <th>ee_005</th>\n",
       "      <th>ee_006</th>\n",
       "      <th>ee_007</th>\n",
       "      <th>ee_008</th>\n",
       "      <th>ee_009</th>\n",
       "      <th>ef_000</th>\n",
       "      <th>eg_000</th>\n",
       "      <th>class</th>\n",
       "    </tr>\n",
       "  </thead>\n",
       "  <tbody>\n",
       "    <tr>\n",
       "      <th>0</th>\n",
       "      <td>60.0</td>\n",
       "      <td>3.829807</td>\n",
       "      <td>20.0</td>\n",
       "      <td>12.0</td>\n",
       "      <td>109.971891</td>\n",
       "      <td>243.996465</td>\n",
       "      <td>5706.847462</td>\n",
       "      <td>16864.168307</td>\n",
       "      <td>309805.071240</td>\n",
       "      <td>2682.000000</td>\n",
       "      <td>...</td>\n",
       "      <td>138.0</td>\n",
       "      <td>412.0</td>\n",
       "      <td>654.0</td>\n",
       "      <td>78.0</td>\n",
       "      <td>88.0</td>\n",
       "      <td>352695.855537</td>\n",
       "      <td>45904.714372</td>\n",
       "      <td>2.184383</td>\n",
       "      <td>10.185295</td>\n",
       "      <td>0.0</td>\n",
       "    </tr>\n",
       "    <tr>\n",
       "      <th>1</th>\n",
       "      <td>82.0</td>\n",
       "      <td>2.429194</td>\n",
       "      <td>68.0</td>\n",
       "      <td>40.0</td>\n",
       "      <td>204.790359</td>\n",
       "      <td>340.992577</td>\n",
       "      <td>2936.534354</td>\n",
       "      <td>21124.833594</td>\n",
       "      <td>298883.850185</td>\n",
       "      <td>292160.377708</td>\n",
       "      <td>...</td>\n",
       "      <td>276.0</td>\n",
       "      <td>1620.0</td>\n",
       "      <td>116.0</td>\n",
       "      <td>86.0</td>\n",
       "      <td>462.0</td>\n",
       "      <td>207501.807476</td>\n",
       "      <td>38335.529073</td>\n",
       "      <td>0.798507</td>\n",
       "      <td>2.165026</td>\n",
       "      <td>0.0</td>\n",
       "    </tr>\n",
       "    <tr>\n",
       "      <th>2</th>\n",
       "      <td>66002.0</td>\n",
       "      <td>2.000000</td>\n",
       "      <td>212.0</td>\n",
       "      <td>112.0</td>\n",
       "      <td>48.329609</td>\n",
       "      <td>148.604202</td>\n",
       "      <td>6889.036518</td>\n",
       "      <td>109704.416633</td>\n",
       "      <td>385325.242111</td>\n",
       "      <td>199486.000000</td>\n",
       "      <td>...</td>\n",
       "      <td>380368.0</td>\n",
       "      <td>440134.0</td>\n",
       "      <td>269556.0</td>\n",
       "      <td>1315022.0</td>\n",
       "      <td>153680.0</td>\n",
       "      <td>516.000000</td>\n",
       "      <td>32542.476942</td>\n",
       "      <td>0.953023</td>\n",
       "      <td>36.394544</td>\n",
       "      <td>0.0</td>\n",
       "    </tr>\n",
       "    <tr>\n",
       "      <th>3</th>\n",
       "      <td>59816.0</td>\n",
       "      <td>1.657330</td>\n",
       "      <td>1010.0</td>\n",
       "      <td>936.0</td>\n",
       "      <td>0.263870</td>\n",
       "      <td>326.727387</td>\n",
       "      <td>904.138343</td>\n",
       "      <td>32879.415395</td>\n",
       "      <td>210887.195392</td>\n",
       "      <td>173025.139602</td>\n",
       "      <td>...</td>\n",
       "      <td>243270.0</td>\n",
       "      <td>483302.0</td>\n",
       "      <td>485332.0</td>\n",
       "      <td>431376.0</td>\n",
       "      <td>210074.0</td>\n",
       "      <td>281662.000000</td>\n",
       "      <td>3232.000000</td>\n",
       "      <td>0.063288</td>\n",
       "      <td>6.113563</td>\n",
       "      <td>0.0</td>\n",
       "    </tr>\n",
       "  </tbody>\n",
       "</table>\n",
       "<p>4 rows × 171 columns</p>\n",
       "</div>"
      ],
      "text/plain": [
       "    aa_000    ab_000  ac_000  ad_000      ae_000      af_000       ag_000  \\\n",
       "0     60.0  3.829807    20.0    12.0  109.971891  243.996465  5706.847462   \n",
       "1     82.0  2.429194    68.0    40.0  204.790359  340.992577  2936.534354   \n",
       "2  66002.0  2.000000   212.0   112.0   48.329609  148.604202  6889.036518   \n",
       "3  59816.0  1.657330  1010.0   936.0    0.263870  326.727387   904.138343   \n",
       "\n",
       "          ag_001         ag_002         ag_003  ...    ee_003    ee_004  \\\n",
       "0   16864.168307  309805.071240    2682.000000  ...     138.0     412.0   \n",
       "1   21124.833594  298883.850185  292160.377708  ...     276.0    1620.0   \n",
       "2  109704.416633  385325.242111  199486.000000  ...  380368.0  440134.0   \n",
       "3   32879.415395  210887.195392  173025.139602  ...  243270.0  483302.0   \n",
       "\n",
       "     ee_005     ee_006    ee_007         ee_008        ee_009    ef_000  \\\n",
       "0     654.0       78.0      88.0  352695.855537  45904.714372  2.184383   \n",
       "1     116.0       86.0     462.0  207501.807476  38335.529073  0.798507   \n",
       "2  269556.0  1315022.0  153680.0     516.000000  32542.476942  0.953023   \n",
       "3  485332.0   431376.0  210074.0  281662.000000   3232.000000  0.063288   \n",
       "\n",
       "      eg_000  class  \n",
       "0  10.185295    0.0  \n",
       "1   2.165026    0.0  \n",
       "2  36.394544    0.0  \n",
       "3   6.113563    0.0  \n",
       "\n",
       "[4 rows x 171 columns]"
      ]
     },
     "execution_count": 97,
     "metadata": {},
     "output_type": "execute_result"
    }
   ],
   "source": [
    "df_test.head(4)"
   ]
  },
  {
   "cell_type": "code",
   "execution_count": 98,
   "metadata": {},
   "outputs": [],
   "source": [
    "def corr_FeatSelect(corr_df, df_data, threshold = 0.9):\n",
    "  \n",
    "  N = corr_df.shape[0]\n",
    "\n",
    "  results =[True for i in range(N)]\n",
    "\n",
    "  for i in range(N):\n",
    "    for j in range(i+1, N):\n",
    "      if corr_df.iloc[i][j] >= threshold:\n",
    "        if results[j]:\n",
    "          results[j] = False\n",
    "\n",
    "  selectedcolumns = df_data.columns[results]\n",
    "  \n",
    "  return selectedcolumns"
   ]
  },
  {
   "cell_type": "code",
   "execution_count": 99,
   "metadata": {},
   "outputs": [],
   "source": [
    "#df_train = df_train.iloc[:, 1:]\n",
    "#df_test = df_test.iloc[:,1:]"
   ]
  },
  {
   "cell_type": "code",
   "execution_count": 100,
   "metadata": {},
   "outputs": [],
   "source": [
    "corr = df_test.corr()"
   ]
  },
  {
   "cell_type": "code",
   "execution_count": 101,
   "metadata": {},
   "outputs": [],
   "source": [
    "selectedcolumns = corr_FeatSelect(corr, df_test) #select the columns based on the correlated features."
   ]
  },
  {
   "cell_type": "code",
   "execution_count": 102,
   "metadata": {},
   "outputs": [],
   "source": [
    "df_test = df_test[selectedcolumns]"
   ]
  },
  {
   "cell_type": "code",
   "execution_count": 103,
   "metadata": {},
   "outputs": [
    {
     "data": {
      "text/plain": [
       "(16000, 142)"
      ]
     },
     "execution_count": 103,
     "metadata": {},
     "output_type": "execute_result"
    }
   ],
   "source": [
    "df_test.shape"
   ]
  },
  {
   "cell_type": "code",
   "execution_count": 104,
   "metadata": {},
   "outputs": [
    {
     "data": {
      "text/html": [
       "<div>\n",
       "<style scoped>\n",
       "    .dataframe tbody tr th:only-of-type {\n",
       "        vertical-align: middle;\n",
       "    }\n",
       "\n",
       "    .dataframe tbody tr th {\n",
       "        vertical-align: top;\n",
       "    }\n",
       "\n",
       "    .dataframe thead th {\n",
       "        text-align: right;\n",
       "    }\n",
       "</style>\n",
       "<table border=\"1\" class=\"dataframe\">\n",
       "  <thead>\n",
       "    <tr style=\"text-align: right;\">\n",
       "      <th></th>\n",
       "      <th>aa_000</th>\n",
       "      <th>ab_000</th>\n",
       "      <th>ac_000</th>\n",
       "      <th>ad_000</th>\n",
       "      <th>ae_000</th>\n",
       "      <th>af_000</th>\n",
       "      <th>ag_000</th>\n",
       "      <th>ag_001</th>\n",
       "      <th>ag_002</th>\n",
       "      <th>ag_003</th>\n",
       "      <th>...</th>\n",
       "      <th>ec_00</th>\n",
       "      <th>ed_000</th>\n",
       "      <th>ee_005</th>\n",
       "      <th>ee_006</th>\n",
       "      <th>ee_007</th>\n",
       "      <th>ee_008</th>\n",
       "      <th>ee_009</th>\n",
       "      <th>ef_000</th>\n",
       "      <th>eg_000</th>\n",
       "      <th>class</th>\n",
       "    </tr>\n",
       "  </thead>\n",
       "  <tbody>\n",
       "    <tr>\n",
       "      <th>0</th>\n",
       "      <td>60.0</td>\n",
       "      <td>3.829807</td>\n",
       "      <td>20.0</td>\n",
       "      <td>12.0</td>\n",
       "      <td>109.971891</td>\n",
       "      <td>243.996465</td>\n",
       "      <td>5706.847462</td>\n",
       "      <td>16864.168307</td>\n",
       "      <td>309805.071240</td>\n",
       "      <td>2682.000000</td>\n",
       "      <td>...</td>\n",
       "      <td>465.50</td>\n",
       "      <td>90.0</td>\n",
       "      <td>654.0</td>\n",
       "      <td>78.0</td>\n",
       "      <td>88.0</td>\n",
       "      <td>352695.855537</td>\n",
       "      <td>45904.714372</td>\n",
       "      <td>2.184383</td>\n",
       "      <td>10.185295</td>\n",
       "      <td>0.0</td>\n",
       "    </tr>\n",
       "    <tr>\n",
       "      <th>1</th>\n",
       "      <td>82.0</td>\n",
       "      <td>2.429194</td>\n",
       "      <td>68.0</td>\n",
       "      <td>40.0</td>\n",
       "      <td>204.790359</td>\n",
       "      <td>340.992577</td>\n",
       "      <td>2936.534354</td>\n",
       "      <td>21124.833594</td>\n",
       "      <td>298883.850185</td>\n",
       "      <td>292160.377708</td>\n",
       "      <td>...</td>\n",
       "      <td>2.86</td>\n",
       "      <td>102.0</td>\n",
       "      <td>116.0</td>\n",
       "      <td>86.0</td>\n",
       "      <td>462.0</td>\n",
       "      <td>207501.807476</td>\n",
       "      <td>38335.529073</td>\n",
       "      <td>0.798507</td>\n",
       "      <td>2.165026</td>\n",
       "      <td>0.0</td>\n",
       "    </tr>\n",
       "    <tr>\n",
       "      <th>2</th>\n",
       "      <td>66002.0</td>\n",
       "      <td>2.000000</td>\n",
       "      <td>212.0</td>\n",
       "      <td>112.0</td>\n",
       "      <td>48.329609</td>\n",
       "      <td>148.604202</td>\n",
       "      <td>6889.036518</td>\n",
       "      <td>109704.416633</td>\n",
       "      <td>385325.242111</td>\n",
       "      <td>199486.000000</td>\n",
       "      <td>...</td>\n",
       "      <td>2057.84</td>\n",
       "      <td>2158.0</td>\n",
       "      <td>269556.0</td>\n",
       "      <td>1315022.0</td>\n",
       "      <td>153680.0</td>\n",
       "      <td>516.000000</td>\n",
       "      <td>32542.476942</td>\n",
       "      <td>0.953023</td>\n",
       "      <td>36.394544</td>\n",
       "      <td>0.0</td>\n",
       "    </tr>\n",
       "    <tr>\n",
       "      <th>3</th>\n",
       "      <td>59816.0</td>\n",
       "      <td>1.657330</td>\n",
       "      <td>1010.0</td>\n",
       "      <td>936.0</td>\n",
       "      <td>0.263870</td>\n",
       "      <td>326.727387</td>\n",
       "      <td>904.138343</td>\n",
       "      <td>32879.415395</td>\n",
       "      <td>210887.195392</td>\n",
       "      <td>173025.139602</td>\n",
       "      <td>...</td>\n",
       "      <td>1541.32</td>\n",
       "      <td>1678.0</td>\n",
       "      <td>485332.0</td>\n",
       "      <td>431376.0</td>\n",
       "      <td>210074.0</td>\n",
       "      <td>281662.000000</td>\n",
       "      <td>3232.000000</td>\n",
       "      <td>0.063288</td>\n",
       "      <td>6.113563</td>\n",
       "      <td>0.0</td>\n",
       "    </tr>\n",
       "  </tbody>\n",
       "</table>\n",
       "<p>4 rows × 142 columns</p>\n",
       "</div>"
      ],
      "text/plain": [
       "    aa_000    ab_000  ac_000  ad_000      ae_000      af_000       ag_000  \\\n",
       "0     60.0  3.829807    20.0    12.0  109.971891  243.996465  5706.847462   \n",
       "1     82.0  2.429194    68.0    40.0  204.790359  340.992577  2936.534354   \n",
       "2  66002.0  2.000000   212.0   112.0   48.329609  148.604202  6889.036518   \n",
       "3  59816.0  1.657330  1010.0   936.0    0.263870  326.727387   904.138343   \n",
       "\n",
       "          ag_001         ag_002         ag_003  ...    ec_00  ed_000  \\\n",
       "0   16864.168307  309805.071240    2682.000000  ...   465.50    90.0   \n",
       "1   21124.833594  298883.850185  292160.377708  ...     2.86   102.0   \n",
       "2  109704.416633  385325.242111  199486.000000  ...  2057.84  2158.0   \n",
       "3   32879.415395  210887.195392  173025.139602  ...  1541.32  1678.0   \n",
       "\n",
       "     ee_005     ee_006    ee_007         ee_008        ee_009    ef_000  \\\n",
       "0     654.0       78.0      88.0  352695.855537  45904.714372  2.184383   \n",
       "1     116.0       86.0     462.0  207501.807476  38335.529073  0.798507   \n",
       "2  269556.0  1315022.0  153680.0     516.000000  32542.476942  0.953023   \n",
       "3  485332.0   431376.0  210074.0  281662.000000   3232.000000  0.063288   \n",
       "\n",
       "      eg_000  class  \n",
       "0  10.185295    0.0  \n",
       "1   2.165026    0.0  \n",
       "2  36.394544    0.0  \n",
       "3   6.113563    0.0  \n",
       "\n",
       "[4 rows x 142 columns]"
      ]
     },
     "execution_count": 104,
     "metadata": {},
     "output_type": "execute_result"
    }
   ],
   "source": [
    "df_test.head(4)"
   ]
  },
  {
   "cell_type": "code",
   "execution_count": 105,
   "metadata": {},
   "outputs": [
    {
     "data": {
      "text/plain": [
       "(16000,)"
      ]
     },
     "execution_count": 105,
     "metadata": {},
     "output_type": "execute_result"
    }
   ],
   "source": [
    "\n",
    "test_cols =df_test.columns.values\n",
    "test_attr_cols = test_cols[:-1]\n",
    "# dataframe to numpy\n",
    "test_data = df_test.to_numpy()\n",
    "X_test, y_test = test_data[:,:-1], test_data[:,-1]\n",
    "del test_data\n",
    "\n",
    "y_test.shape"
   ]
  },
  {
   "cell_type": "code",
   "execution_count": 106,
   "metadata": {},
   "outputs": [
    {
     "data": {
      "text/plain": [
       "((16000, 141), (16000,))"
      ]
     },
     "execution_count": 106,
     "metadata": {},
     "output_type": "execute_result"
    }
   ],
   "source": [
    "X_test.shape, y_test.shape"
   ]
  },
  {
   "cell_type": "code",
   "execution_count": 107,
   "metadata": {},
   "outputs": [],
   "source": [
    "#Load Training Dataset"
   ]
  },
  {
   "cell_type": "code",
   "execution_count": 108,
   "metadata": {},
   "outputs": [
    {
     "data": {
      "text/plain": [
       "(60000, 171)"
      ]
     },
     "execution_count": 108,
     "metadata": {},
     "output_type": "execute_result"
    }
   ],
   "source": [
    "df_train = pd.read_csv('cleaned_train.csv')\n",
    "df_train.shape"
   ]
  },
  {
   "cell_type": "code",
   "execution_count": 109,
   "metadata": {},
   "outputs": [],
   "source": [
    "#select columns based on their correlation"
   ]
  },
  {
   "cell_type": "code",
   "execution_count": 110,
   "metadata": {},
   "outputs": [],
   "source": [
    "df_train = df_train[selectedcolumns]"
   ]
  },
  {
   "cell_type": "code",
   "execution_count": 111,
   "metadata": {},
   "outputs": [
    {
     "data": {
      "text/plain": [
       "(60000, 142)"
      ]
     },
     "execution_count": 111,
     "metadata": {},
     "output_type": "execute_result"
    }
   ],
   "source": [
    "df_train.shape"
   ]
  },
  {
   "cell_type": "code",
   "execution_count": null,
   "metadata": {},
   "outputs": [],
   "source": []
  },
  {
   "cell_type": "code",
   "execution_count": 112,
   "metadata": {},
   "outputs": [],
   "source": [
    "cols = df_train.columns.values\n",
    "attr_cols = cols[:-1]\n",
    "# dataframe to numpy\n",
    "data = df_train.to_numpy()\n",
    "X_train, y_train = data[:,:-1], data[:,-1]\n",
    "del data"
   ]
  },
  {
   "cell_type": "code",
   "execution_count": 113,
   "metadata": {},
   "outputs": [
    {
     "data": {
      "text/plain": [
       "((60000, 141), (60000,), (16000, 141), (16000,))"
      ]
     },
     "execution_count": 113,
     "metadata": {},
     "output_type": "execute_result"
    }
   ],
   "source": [
    "X_train.shape, y_train.shape, X_test.shape, y_test.shape"
   ]
  },
  {
   "cell_type": "code",
   "execution_count": 114,
   "metadata": {},
   "outputs": [],
   "source": [
    "\n",
    "class LogisticRegression():\n",
    "    \n",
    "    def __init__(self, size):\n",
    "        self.w = np.random.randn(size)\n",
    "        self.b = np.random.randn(1)\n",
    "    \n",
    "    def fit(self, X, y, lr = 1e-3, epochs = 1e3, show_curve = False):\n",
    "        epochs = int(epochs)\n",
    "        N, D = X.shape\n",
    "        J = np.zeros(epochs)\n",
    "        for epoch in range(epochs):\n",
    "            # CHECK\n",
    "            p_hat = self.__forward(X)\n",
    "            # CHECK\n",
    "            J[epoch] = cross_entropy_v1(y, p_hat)\n",
    "            self.w -= lr*(1/N)*X.T@(p_hat - y)\n",
    "            self.b -= lr*(1/N)*np.sum(p_hat - y)\n",
    "        if show_curve:\n",
    "            plt.figure(figsize = (10, 6))\n",
    "            plt.plot(J)\n",
    "            plt.xlabel('epochs')\n",
    "            plt.ylabel('$\\mathcal{J}$')\n",
    "            plt.title('Training Curve')\n",
    "    \n",
    "    def __forward(self, X):\n",
    "        return sigmoid(X@self.w + self.b)\n",
    "        \n",
    "    def predict(self, X, thresh = 0.0306):\n",
    "        return (self.__forward(X) >= thresh).astype(np.int32)\n",
    "\n",
    "####### assistant function ###########\n",
    "\n",
    "def sigmoid(h):\n",
    "    epsilon = 1e-5\n",
    "    return 1/(1 + np.exp(-h + epsilon))\n",
    "\n",
    "def cross_entropy_v1(y, p_hat):\n",
    "    epsilon = 1e-3\n",
    "    return -(1/len(y)) * np.sum(y * np.log(p_hat + epsilon)\\\n",
    "                                + (1- y) * np.log(1 - p_hat + epsilon))\n",
    "\n",
    "def accuracy(y, y_hat):\n",
    "    return np.mean(y == y_hat)\n",
    "\n",
    "def cost(X, y, model, thresh):\n",
    "    # cost weights\n",
    "    fp = 10\n",
    "    fn = 500\n",
    "    # predict\n",
    "    y_hat_n = model.predict(X[y == 0], thresh = thresh)\n",
    "    y_hat_p = model.predict(X[y == 1], thresh = thresh)\n",
    "    # get cost\n",
    "    cost1 = fp*np.sum(y_hat_n == 1)\n",
    "    cost2 = fn*np.sum(y_hat_p == 0)\n",
    "    return cost1 + cost2"
   ]
  },
  {
   "cell_type": "code",
   "execution_count": 115,
   "metadata": {},
   "outputs": [],
   "source": [
    "def standardize(X):\n",
    "    eposilon = 1e-3\n",
    "    X_ = X.copy()\n",
    "    try:\n",
    "        N, D = X.shape\n",
    "    except:\n",
    "        D = 1\n",
    "    for d in range(D):\n",
    "        mean = np.mean(X_[:,d])\n",
    "        std  = np.std(X_[:,d])\n",
    "        X_[:,d] = (X_[:,d] - mean)/(std + eposilon)\n",
    "    return X_"
   ]
  },
  {
   "cell_type": "code",
   "execution_count": 116,
   "metadata": {},
   "outputs": [],
   "source": [
    "#standardize the dataset\n",
    "X_test_norm = standardize(X_test)\n",
    "X_train_norm = standardize(X_train)"
   ]
  },
  {
   "cell_type": "code",
   "execution_count": 117,
   "metadata": {},
   "outputs": [
    {
     "data": {
      "text/plain": [
       "(16000, 141)"
      ]
     },
     "execution_count": 117,
     "metadata": {},
     "output_type": "execute_result"
    }
   ],
   "source": [
    "#build model\n",
    "X_test_norm.shape"
   ]
  },
  {
   "cell_type": "code",
   "execution_count": 118,
   "metadata": {},
   "outputs": [],
   "source": [
    "#model.fit(X_norm, y, lr = 1e-2, epochs = 6000, show_curve = True)"
   ]
  },
  {
   "cell_type": "code",
   "execution_count": 119,
   "metadata": {},
   "outputs": [],
   "source": [
    "#from sklearn.linear_model import LogisticRegression"
   ]
  },
  {
   "cell_type": "code",
   "execution_count": 120,
   "metadata": {},
   "outputs": [],
   "source": [
    "LogisticReg = LogisticRegression(X_train.shape[1])"
   ]
  },
  {
   "cell_type": "code",
   "execution_count": 121,
   "metadata": {},
   "outputs": [
    {
     "data": {
      "text/plain": [
       "141"
      ]
     },
     "execution_count": 121,
     "metadata": {},
     "output_type": "execute_result"
    }
   ],
   "source": [
    "X_train.shape[1]"
   ]
  },
  {
   "cell_type": "code",
   "execution_count": 122,
   "metadata": {},
   "outputs": [
    {
     "data": {
      "image/png": "[encoded data removed]",
      "text/plain": [
       "<Figure size 720x432 with 1 Axes>"
      ]
     },
     "metadata": {
      "needs_background": "light"
     },
     "output_type": "display_data"
    }
   ],
   "source": [
    "LogisticReg.fit(X_train_norm, y_train, lr = 1e-2, epochs = 6000, show_curve = True)"
   ]
  },
  {
   "cell_type": "code",
   "execution_count": 123,
   "metadata": {},
   "outputs": [],
   "source": [
    "predictions = LogisticReg.predict(X_test_norm)"
   ]
  },
  {
   "cell_type": "code",
   "execution_count": 124,
   "metadata": {},
   "outputs": [
    {
     "data": {
      "text/plain": [
       "(16000,)"
      ]
     },
     "execution_count": 124,
     "metadata": {},
     "output_type": "execute_result"
    }
   ],
   "source": [
    "predictions.shape"
   ]
  },
  {
   "cell_type": "code",
   "execution_count": 125,
   "metadata": {},
   "outputs": [
    {
     "data": {
      "text/plain": [
       "0.8895625"
      ]
     },
     "execution_count": 125,
     "metadata": {},
     "output_type": "execute_result"
    }
   ],
   "source": [
    "accuracy(y_test, predictions)"
   ]
  },
  {
   "cell_type": "code",
   "execution_count": null,
   "metadata": {},
   "outputs": [],
   "source": []
  },
  {
   "cell_type": "code",
   "execution_count": null,
   "metadata": {},
   "outputs": [],
   "source": []
  },
  {
   "cell_type": "code",
   "execution_count": null,
   "metadata": {},
   "outputs": [],
   "source": [
    "#GaussianNB Classification"
   ]
  },
  {
   "cell_type": "code",
   "execution_count": 35,
   "metadata": {},
   "outputs": [],
   "source": [
    "from sklearn.naive_bayes import GaussianNB"
   ]
  },
  {
   "cell_type": "code",
   "execution_count": 36,
   "metadata": {},
   "outputs": [],
   "source": [
    "model = GaussianNB()"
   ]
  },
  {
   "cell_type": "code",
   "execution_count": 37,
   "metadata": {},
   "outputs": [
    {
     "data": {
      "text/plain": [
       "GaussianNB(priors=None, var_smoothing=1e-09)"
      ]
     },
     "execution_count": 37,
     "metadata": {},
     "output_type": "execute_result"
    }
   ],
   "source": [
    "model.fit(X_train_norm, y_train)"
   ]
  },
  {
   "cell_type": "code",
   "execution_count": 38,
   "metadata": {},
   "outputs": [],
   "source": [
    "predictions = model.predict(X_test_norm)"
   ]
  },
  {
   "cell_type": "code",
   "execution_count": 39,
   "metadata": {},
   "outputs": [
    {
     "data": {
      "text/plain": [
       "(16000,)"
      ]
     },
     "execution_count": 39,
     "metadata": {},
     "output_type": "execute_result"
    }
   ],
   "source": [
    "predictions.shape"
   ]
  },
  {
   "cell_type": "code",
   "execution_count": 40,
   "metadata": {
    "scrolled": true
   },
   "outputs": [
    {
     "name": "stdout",
     "output_type": "stream",
     "text": [
      "[[15222   403]\n",
      " [   78   297]]\n"
     ]
    }
   ],
   "source": [
    "from sklearn.metrics import confusion_matrix\n",
    "#y_pred = classifier(X_train)\n",
    "cm = confusion_matrix(y_test, predictions)\n",
    "print(cm)"
   ]
  },
  {
   "cell_type": "code",
   "execution_count": 41,
   "metadata": {},
   "outputs": [
    {
     "name": "stdout",
     "output_type": "stream",
     "text": [
      "0.9699375\n"
     ]
    }
   ],
   "source": [
    "accuracy = model.score(X_test_norm, y_test)\n",
    "print(accuracy)"
   ]
  },
  {
   "cell_type": "code",
   "execution_count": 42,
   "metadata": {},
   "outputs": [],
   "source": [
    "from sklearn.metrics import classification_report"
   ]
  },
  {
   "cell_type": "code",
   "execution_count": 43,
   "metadata": {
    "scrolled": true
   },
   "outputs": [
    {
     "name": "stdout",
     "output_type": "stream",
     "text": [
      "              precision    recall  f1-score   support\n",
      "\n",
      "         0.0       0.99      0.97      0.98     15625\n",
      "         1.0       0.42      0.79      0.55       375\n",
      "\n",
      "    accuracy                           0.97     16000\n",
      "   macro avg       0.71      0.88      0.77     16000\n",
      "weighted avg       0.98      0.97      0.97     16000\n",
      "\n"
     ]
    }
   ],
   "source": [
    "print(classification_report(y_test, predictions))"
   ]
  },
  {
   "cell_type": "code",
   "execution_count": 44,
   "metadata": {},
   "outputs": [],
   "source": [
    "from sklearn.metrics import precision_recall_curve"
   ]
  },
  {
   "cell_type": "code",
   "execution_count": 45,
   "metadata": {},
   "outputs": [],
   "source": [
    "precision, recall, thresholds = precision_recall_curve(y_test, predictions)"
   ]
  },
  {
   "cell_type": "code",
   "execution_count": 46,
   "metadata": {},
   "outputs": [
    {
     "data": {
      "text/plain": [
       "array([1.   , 0.792, 0.   ])"
      ]
     },
     "execution_count": 46,
     "metadata": {},
     "output_type": "execute_result"
    }
   ],
   "source": [
    "recall"
   ]
  },
  {
   "cell_type": "code",
   "execution_count": 47,
   "metadata": {},
   "outputs": [
    {
     "data": {
      "text/plain": [
       "array([0.0234375 , 0.42428571, 1.        ])"
      ]
     },
     "execution_count": 47,
     "metadata": {},
     "output_type": "execute_result"
    }
   ],
   "source": [
    "precision"
   ]
  },
  {
   "cell_type": "code",
   "execution_count": 83,
   "metadata": {
    "scrolled": true
   },
   "outputs": [
    {
     "data": {
      "text/plain": [
       "Text(0.5, 1, 'Naive Bayes Confusion Matrix')"
      ]
     },
     "execution_count": 83,
     "metadata": {},
     "output_type": "execute_result"
    },
    {
     "data": {
      "image/png": "[encoded data removed]",
      "text/plain": [
       "<Figure size 864x576 with 2 Axes>"
      ]
     },
     "metadata": {
      "needs_background": "light"
     },
     "output_type": "display_data"
    }
   ],
   "source": [
    "plt.figure(figsize = (12, 8))\n",
    "sns.heatmap(cm, annot = True, annot_kws = {'fontsize': 15}, robust = True)\n",
    "plt.title('Naive Bayes Confusion Matrix', fontsize = 20)"
   ]
  },
  {
   "cell_type": "code",
   "execution_count": 126,
   "metadata": {},
   "outputs": [
    {
     "ename": "SyntaxError",
     "evalue": "invalid syntax (<ipython-input-126-942b5a983b53>, line 1)",
     "output_type": "error",
     "traceback": [
      "\u001b[0;36m  File \u001b[0;32m\"<ipython-input-126-942b5a983b53>\"\u001b[0;36m, line \u001b[0;32m1\u001b[0m\n\u001b[0;31m    Having tried out the\u001b[0m\n\u001b[0m               ^\u001b[0m\n\u001b[0;31mSyntaxError\u001b[0m\u001b[0;31m:\u001b[0m invalid syntax\n"
     ]
    }
   ],
   "source": [
    "#Having tried out the other models, we now try to fit the KNN Classifier from Sklearn library."
   ]
  },
  {
   "cell_type": "code",
   "execution_count": 49,
   "metadata": {},
   "outputs": [],
   "source": [
    "#KNN Classifier"
   ]
  },
  {
   "cell_type": "code",
   "execution_count": 74,
   "metadata": {},
   "outputs": [],
   "source": [
    "from sklearn.neighbors import KNeighborsClassifier\n",
    "from sklearn import neighbors\n",
    "from sklearn import preprocessing\n",
    "from sklearn import metrics\n",
    "from sklearn.model_selection import train_test_split\n",
    "from sklearn.model_selection import cross_validate"
   ]
  },
  {
   "cell_type": "code",
   "execution_count": 75,
   "metadata": {},
   "outputs": [],
   "source": [
    "#scale the dataset\n",
    "X_train_scale = preprocessing.scale(X_train_norm)"
   ]
  },
  {
   "cell_type": "code",
   "execution_count": 78,
   "metadata": {},
   "outputs": [],
   "source": [
    "#Split dataset\n",
    "X_train, X_test, y_train, y_test = train_test_split(X_train_scale, y_train, test_size = .40, random_state = 123)"
   ]
  },
  {
   "cell_type": "code",
   "execution_count": 79,
   "metadata": {},
   "outputs": [],
   "source": [
    "#train model\n",
    "knn = neighbors.KNeighborsClassifier()"
   ]
  },
  {
   "cell_type": "code",
   "execution_count": 80,
   "metadata": {},
   "outputs": [
    {
     "data": {
      "text/plain": [
       "KNeighborsClassifier(algorithm='auto', leaf_size=30, metric='minkowski',\n",
       "                     metric_params=None, n_jobs=None, n_neighbors=5, p=2,\n",
       "                     weights='uniform')"
      ]
     },
     "execution_count": 80,
     "metadata": {},
     "output_type": "execute_result"
    }
   ],
   "source": [
    "knn.fit(X_train, y_train)"
   ]
  },
  {
   "cell_type": "code",
   "execution_count": null,
   "metadata": {},
   "outputs": [],
   "source": [
    "#Fit the model from Sklearn:"
   ]
  },
  {
   "cell_type": "code",
   "execution_count": 51,
   "metadata": {},
   "outputs": [],
   "source": [
    "knn = KNNClassifier()\n",
    "knn.fit(X_train_norm, y_train)\n"
   ]
  },
  {
   "cell_type": "code",
   "execution_count": 81,
   "metadata": {},
   "outputs": [
    {
     "name": "stdout",
     "output_type": "stream",
     "text": [
      "              precision    recall  f1-score   support\n",
      "\n",
      "         0.0       0.99      1.00      0.99     23601\n",
      "         1.0       0.79      0.53      0.64       399\n",
      "\n",
      "    accuracy                           0.99     24000\n",
      "   macro avg       0.89      0.77      0.82     24000\n",
      "weighted avg       0.99      0.99      0.99     24000\n",
      "\n"
     ]
    }
   ],
   "source": [
    "#Evaluate our Model \n",
    "y_pred = knn.predict(X_test)\n",
    "print (metrics.classification_report(y_test, y_pred))"
   ]
  },
  {
   "cell_type": "code",
   "execution_count": 82,
   "metadata": {},
   "outputs": [
    {
     "name": "stdout",
     "output_type": "stream",
     "text": [
      "[[23543    58]\n",
      " [  186   213]]\n"
     ]
    }
   ],
   "source": [
    "knncm = confusion_matrix(y_test, y_pred)\n",
    "print(knncm)"
   ]
  },
  {
   "cell_type": "code",
   "execution_count": 85,
   "metadata": {},
   "outputs": [
    {
     "data": {
      "text/plain": [
       "Text(0.5, 1, 'KNN Confusion Matrix')"
      ]
     },
     "execution_count": 85,
     "metadata": {},
     "output_type": "execute_result"
    },
    {
     "data": {
      "image/png": "[encoded data removed]",
      "text/plain": [
       "<Figure size 864x576 with 2 Axes>"
      ]
     },
     "metadata": {
      "needs_background": "light"
     },
     "output_type": "display_data"
    }
   ],
   "source": [
    "plt.figure(figsize = (12, 8))\n",
    "sns.heatmap(knncm, annot = True, annot_kws = {'fontsize': 15}, robust = True)\n",
    "plt.title('KNN Confusion Matrix', fontsize = 20)"
   ]
  },
  {
   "cell_type": "code",
   "execution_count": null,
   "metadata": {},
   "outputs": [],
   "source": []
  },
  {
   "cell_type": "code",
   "execution_count": null,
   "metadata": {},
   "outputs": [],
   "source": []
  }
 ],
 "metadata": {
  "kernelspec": {
   "display_name": "Python 3",
   "language": "python",
   "name": "python3"
  },
  "language_info": {
   "codemirror_mode": {
    "name": "ipython",
    "version": 3
   },
   "file_extension": ".py",
   "mimetype": "text/x-python",
   "name": "python",
   "nbconvert_exporter": "python",
   "pygments_lexer": "ipython3",
   "version": "3.7.6"
  }
 },
 "nbformat": 4,
 "nbformat_minor": 4
}
